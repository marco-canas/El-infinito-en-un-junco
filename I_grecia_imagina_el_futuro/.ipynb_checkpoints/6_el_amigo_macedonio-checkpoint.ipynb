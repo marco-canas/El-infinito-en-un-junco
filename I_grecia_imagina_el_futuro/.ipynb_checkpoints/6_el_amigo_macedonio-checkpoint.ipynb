{
 "cells": [
  {
   "cell_type": "markdown",
   "id": "dcdb9f4b",
   "metadata": {},
   "source": [
    "# 6 El amigo Macedonio"
   ]
  },
  {
   "cell_type": "markdown",
   "id": "2fd9134e",
   "metadata": {},
   "source": [
    "Ptolomeo fue compañero de expedición y amigo íntimo de Alejandro. "
   ]
  },
  {
   "cell_type": "markdown",
   "id": "4326a64e",
   "metadata": {},
   "source": [
    "Por sus orígenes, no tenía ni el más remoto vínculo con Egipto. "
   ]
  },
  {
   "cell_type": "markdown",
   "id": "23232d86",
   "metadata": {},
   "source": [
    "Nacido en una familia noble pero sin brillo en Macedonia, nunca imaginó que un día llegaría a ser faraón del rico país del Nilo, que pisó por primera vez con casi cuarenta años, sin conocer su lengua, costumbres y compleja burocracia. "
   ]
  },
  {
   "cell_type": "markdown",
   "id": "acdc4bdc",
   "metadata": {},
   "source": [
    "Pero las conquistas de Alejandro y sus enormes consecuencias fueron una de esas sorpresas históricas que ningún analista predice, al menos antes de que sucedan. "
   ]
  },
  {
   "cell_type": "markdown",
   "id": "f2b75b92",
   "metadata": {},
   "source": [
    "Aunque los macedonios eran orgullosos, sabían que el resto del mundo consideraba su país atávico (que es arcaico o característico del pasado), tribal e insignificante. "
   ]
  },
  {
   "cell_type": "markdown",
   "id": "e6fba3d5",
   "metadata": {},
   "source": [
    "Dentro del mosaico de estados independientes griegos, desde luego, estaban muchos peldaños por debajo del pedigrí de los atenienses o los espartanos. "
   ]
  },
  {
   "cell_type": "markdown",
   "id": "b16d714e",
   "metadata": {},
   "source": [
    "Mantenían la monarquía tradicional mientras que la mayoría de ciudades-estado de la Hélade habían experimentado con formas de gobierno más sofisticadas y, para empeorar la situación, hablaban un dialecto que resultaba difícil de comprender para los demás.  "
   ]
  },
  {
   "cell_type": "markdown",
   "id": "45686429",
   "metadata": {},
   "source": [
    "Cuando una de sus reyes quiso competir en los Juegos Olímpicos, le dieron permiso después de un cuidadoso escutinio. "
   ]
  },
  {
   "cell_type": "markdown",
   "id": "3d877ec0",
   "metadata": {},
   "source": [
    "En otras palabras, se les admitía a regañadientes como parte del club griego. "
   ]
  },
  {
   "cell_type": "markdown",
   "id": "536a149a",
   "metadata": {},
   "source": [
    "Para el resto del mundo, simplemente no existían. "
   ]
  },
  {
   "cell_type": "markdown",
   "id": "340cf887",
   "metadata": {},
   "source": [
    "En aquel entonces, oriente era el foco de la civilización, bien iluminado por la historia; y Occidente, el territorio oscuro y salvaje donde vivían los bárbaros. "
   ]
  },
  {
   "cell_type": "markdown",
   "id": "df9aeb62",
   "metadata": {},
   "source": [
    "En el atlas de las percepciones y los perjuicios geográficos, Macedonia ocupaba la periferia del mundo civilizado. "
   ]
  },
  {
   "cell_type": "markdown",
   "id": "c4925c15",
   "metadata": {},
   "source": [
    "Probablemente pocos egipcios sabían situar en el mapa la patria de su próximo rey. "
   ]
  },
  {
   "cell_type": "markdown",
   "id": "0e844593",
   "metadata": {},
   "source": [
    "Alejandro acabó con esa actitud de menosprecio. "
   ]
  },
  {
   "cell_type": "markdown",
   "id": "9ab0a5cf",
   "metadata": {},
   "source": [
    "Fue un personaje tan poderoso que todos los griegos lo adoptaron como suyo. "
   ]
  },
  {
   "cell_type": "markdown",
   "id": "dd3ba0f3",
   "metadata": {},
   "source": [
    "De hecho, lo han convertido en un símbolo nacional. "
   ]
  },
  {
   "cell_type": "markdown",
   "id": "c15515a6",
   "metadata": {},
   "source": [
    "Cuando Grecia estuvo sometida durante siglos a la dominación turca otomana, los griegos tejieron leyendas en las que el grán héroe Alejandro volvía a la vida para liberar a su patria de la opresión extranjera."
   ]
  },
  {
   "cell_type": "markdown",
   "id": "e5d453e2",
   "metadata": {},
   "source": [
    "También Napoleón ascendió de provinciano corso a francés sin paliativos a medida que conquistaba Europa: el triunfo es un pasaporte al que nadie pone objeciones.  "
   ]
  },
  {
   "cell_type": "markdown",
   "id": "ffb6c1c6",
   "metadata": {},
   "source": [
    "Ptolomeo siempre estuvo cerca de Alejandro. "
   ]
  },
  {
   "cell_type": "markdown",
   "id": "31826063",
   "metadata": {},
   "source": [
    "Escudero del principe en la corte macedonia, lo acompañó en su meteórica campaña de conquistas, encuadrado en el exclusivo regimiento de caballería de los compañeros del Rey, y fue uno de los guarda espaldas personales de confianza.   "
   ]
  },
  {
   "cell_type": "markdown",
   "id": "dfd3a725",
   "metadata": {},
   "source": []
  },
  {
   "cell_type": "code",
   "execution_count": null,
   "id": "bbb5ccff",
   "metadata": {},
   "outputs": [],
   "source": []
  },
  {
   "cell_type": "code",
   "execution_count": null,
   "id": "91581bd0",
   "metadata": {},
   "outputs": [],
   "source": []
  },
  {
   "cell_type": "code",
   "execution_count": null,
   "id": "c718fc15",
   "metadata": {},
   "outputs": [],
   "source": []
  },
  {
   "cell_type": "code",
   "execution_count": null,
   "id": "9018a576",
   "metadata": {},
   "outputs": [],
   "source": []
  },
  {
   "cell_type": "code",
   "execution_count": null,
   "id": "90fb3d25",
   "metadata": {},
   "outputs": [],
   "source": []
  },
  {
   "cell_type": "code",
   "execution_count": null,
   "id": "6724e471",
   "metadata": {},
   "outputs": [],
   "source": []
  },
  {
   "cell_type": "code",
   "execution_count": null,
   "id": "4c51e216",
   "metadata": {},
   "outputs": [],
   "source": []
  },
  {
   "cell_type": "code",
   "execution_count": null,
   "id": "ea6d6f47",
   "metadata": {},
   "outputs": [],
   "source": []
  },
  {
   "cell_type": "code",
   "execution_count": null,
   "id": "ff1524b8",
   "metadata": {},
   "outputs": [],
   "source": []
  },
  {
   "cell_type": "code",
   "execution_count": null,
   "id": "64b5b885",
   "metadata": {},
   "outputs": [],
   "source": []
  },
  {
   "cell_type": "code",
   "execution_count": null,
   "id": "158a0069",
   "metadata": {},
   "outputs": [],
   "source": []
  },
  {
   "cell_type": "code",
   "execution_count": null,
   "id": "571f3806",
   "metadata": {},
   "outputs": [],
   "source": []
  },
  {
   "cell_type": "code",
   "execution_count": null,
   "id": "43eb8211",
   "metadata": {},
   "outputs": [],
   "source": []
  },
  {
   "cell_type": "code",
   "execution_count": null,
   "id": "04c7617a",
   "metadata": {},
   "outputs": [],
   "source": []
  },
  {
   "cell_type": "code",
   "execution_count": null,
   "id": "2bdcca97",
   "metadata": {},
   "outputs": [],
   "source": []
  },
  {
   "cell_type": "code",
   "execution_count": null,
   "id": "a17be1ae",
   "metadata": {},
   "outputs": [],
   "source": []
  },
  {
   "cell_type": "code",
   "execution_count": null,
   "id": "4cb12c59",
   "metadata": {},
   "outputs": [],
   "source": []
  },
  {
   "cell_type": "code",
   "execution_count": null,
   "id": "85ed60a9",
   "metadata": {},
   "outputs": [],
   "source": []
  },
  {
   "cell_type": "code",
   "execution_count": null,
   "id": "76267841",
   "metadata": {},
   "outputs": [],
   "source": []
  },
  {
   "cell_type": "code",
   "execution_count": null,
   "id": "61542d57",
   "metadata": {},
   "outputs": [],
   "source": []
  },
  {
   "cell_type": "code",
   "execution_count": null,
   "id": "338b8045",
   "metadata": {},
   "outputs": [],
   "source": []
  },
  {
   "cell_type": "code",
   "execution_count": null,
   "id": "82e53bac",
   "metadata": {},
   "outputs": [],
   "source": []
  },
  {
   "cell_type": "markdown",
   "id": "2a061e10",
   "metadata": {},
   "source": [
    "## Referentes  \n",
    "\n",
    "* https://es.wikipedia.org/wiki/Macedonia_(Grecia)"
   ]
  },
  {
   "cell_type": "code",
   "execution_count": null,
   "id": "977c2602",
   "metadata": {},
   "outputs": [],
   "source": []
  }
 ],
 "metadata": {
  "kernelspec": {
   "display_name": "Python 3",
   "language": "python",
   "name": "python3"
  },
  "language_info": {
   "codemirror_mode": {
    "name": "ipython",
    "version": 3
   },
   "file_extension": ".py",
   "mimetype": "text/x-python",
   "name": "python",
   "nbconvert_exporter": "python",
   "pygments_lexer": "ipython3",
   "version": "3.8.8"
  },
  "latex_envs": {
   "LaTeX_envs_menu_present": true,
   "autoclose": false,
   "autocomplete": false,
   "bibliofile": "biblio.bib",
   "cite_by": "apalike",
   "current_citInitial": 1,
   "eqLabelWithNumbers": true,
   "eqNumInitial": 1,
   "hotkeys": {
    "equation": "Ctrl-E",
    "itemize": "Ctrl-I"
   },
   "labels_anchors": false,
   "latex_user_defs": false,
   "report_style_numbering": false,
   "user_envs_cfg": false
  }
 },
 "nbformat": 4,
 "nbformat_minor": 5
}
