{
 "cells": [
  {
   "cell_type": "markdown",
   "id": "01833e39",
   "metadata": {},
   "source": [
    "# 6 El amigo Macedonio"
   ]
  },
  {
   "cell_type": "markdown",
   "id": "31f6e728",
   "metadata": {},
   "source": [
    "Ptolomeo fue compañero de expedición y amigo íntimo de Alejandro. "
   ]
  },
  {
   "cell_type": "markdown",
   "id": "3d4bf35b",
   "metadata": {},
   "source": [
    "Por sus orígenes, no tenía ni el más remoto vínculo con Egipto. "
   ]
  },
  {
   "cell_type": "markdown",
   "id": "fbe706e7",
   "metadata": {},
   "source": [
    "Nacido en una familia noble pero sin brillo en Macedonia, nunca imaginó que un día llegaría a ser faraón del rico país del Nilo, que pisó por primera vez con casi cuarenta años, sin conocer su lengua, costumbres y compleja burocracia. "
   ]
  },
  {
   "cell_type": "markdown",
   "id": "dc89c865",
   "metadata": {},
   "source": [
    "Pero las conquistas de Alejandro y sus enormes consecuencias fueron una de esas sorpresas históricas que ningún analista predice, al menos antes de que sucedan. "
   ]
  },
  {
   "cell_type": "markdown",
   "id": "5c89716e",
   "metadata": {},
   "source": [
    "Aunque los macedonios eran orgullosos, sabían que el resto del mundo consideraba su país atávico (que es arcaico o característico del pasado), tribal e insignificante. "
   ]
  },
  {
   "cell_type": "markdown",
   "id": "e3980993",
   "metadata": {},
   "source": [
    "Dentro del mosaico de estados independientes griegos, desde luego, estaban muchos peldaños por debajo del pedigrí de los atenienses o los espartanos. "
   ]
  },
  {
   "cell_type": "markdown",
   "id": "c42b80f1",
   "metadata": {},
   "source": [
    "Mantenían la monarquía tradicional mientras que la mayoría de ciudades-estado de la Hélade habían experimentado con formas de gobierno más sofisticadas y, para empeorar la situación, hablaban un dialecto que resultaba difícil de comprender para los demás.  "
   ]
  },
  {
   "cell_type": "markdown",
   "id": "79ca3f8c",
   "metadata": {},
   "source": [
    "Cuando una de sus reyes quiso competir en los Juegos Olímpicos, le dieron permiso después de un cuidadoso escutinio. "
   ]
  },
  {
   "cell_type": "markdown",
   "id": "7a057327",
   "metadata": {},
   "source": [
    "En otras palabras, se les admitía a regañadientes como parte del club griego. "
   ]
  },
  {
   "cell_type": "markdown",
   "id": "44f9f096",
   "metadata": {},
   "source": [
    "Para el resto del mundo, simplemente no existían. "
   ]
  },
  {
   "cell_type": "markdown",
   "id": "c86c9ea2",
   "metadata": {},
   "source": [
    "En aquel entonces, oriente era el foco de la civilización, bien iluminado por la historia; y Occidente, el territorio oscuro y salvaje donde vivían los bárbaros. "
   ]
  },
  {
   "cell_type": "markdown",
   "id": "4a49b2d1",
   "metadata": {},
   "source": [
    "En el atlas de las percepciones y los perjuicios geográficos, Macedonia ocupaba la periferia del mundo civilizado. "
   ]
  },
  {
   "cell_type": "markdown",
   "id": "27af60d6",
   "metadata": {},
   "source": [
    "Probablemente pocos egipcios sabían situar en el mapa la patria de su próximo rey. "
   ]
  },
  {
   "cell_type": "markdown",
   "id": "dfbecc5d",
   "metadata": {},
   "source": [
    "Alejandro acabó con esa actitud de menosprecio. "
   ]
  },
  {
   "cell_type": "markdown",
   "id": "0fae52de",
   "metadata": {},
   "source": [
    "Fue un personaje tan poderoso que todos los griegos lo adoptaron como suyo. "
   ]
  },
  {
   "cell_type": "markdown",
   "id": "d2c4928e",
   "metadata": {},
   "source": [
    "De hecho, lo han convertido en un símbolo nacional. "
   ]
  },
  {
   "cell_type": "markdown",
   "id": "774158a4",
   "metadata": {},
   "source": [
    "Cuando Grecia estuvo sometida durante siglos a la dominación turca otomana, los griegos tejieron leyendas en las que el grán héroe Alejandro volvía a la vida para liberar a su patria de la opresión extranjera."
   ]
  },
  {
   "cell_type": "markdown",
   "id": "6806c1b2",
   "metadata": {},
   "source": [
    "También Napoleón ascendió de provinciano corso a francés sin paliativos a medida que conquistaba Europa: el triunfo es un pasaporte al que nadie pone objeciones.  "
   ]
  },
  {
   "cell_type": "markdown",
   "id": "5a62763c",
   "metadata": {},
   "source": [
    "Ptolomeo siempre estuvo cerca de Alejandro. "
   ]
  },
  {
   "cell_type": "markdown",
   "id": "cb055de7",
   "metadata": {},
   "source": [
    "Escudero del principe en la corte macedonia, lo acompañó en su meteórica campaña de conquistas, encuadrado en el exclusivo regimiento de caballería de los Compañeros del Rey, y fue uno de los guarda espaldas personales de confianza.   "
   ]
  },
  {
   "cell_type": "markdown",
   "id": "539524ab",
   "metadata": {},
   "source": [
    "Tras el motín del Ganges, conoció las penalidades del viaje de regreso, que superaron las peores previsiones: sufrieron la agresión conjunta de la malaria, la disentería, tigres, serpientes e insectos venenosos. "
   ]
  },
  {
   "cell_type": "markdown",
   "id": "18ef374c",
   "metadata": {},
   "source": [
    "Los pueblos rebeldes de la región del Indo atacaban a un ejercito exhausto por las marchs bajo el humedo calor tropical. "
   ]
  },
  {
   "cell_type": "markdown",
   "id": "856b5028",
   "metadata": {},
   "source": [
    "El invierno del retorno, solo quedaba la cuarta parte de los efectivos que llegaron a la India. "
   ]
  },
  {
   "cell_type": "markdown",
   "id": "d1c84ae9",
   "metadata": {},
   "source": [
    "Después de tantas victorias, sufrimientos y muertes, la primavera del año 324 a.C. fue agridulce. "
   ]
  },
  {
   "cell_type": "markdown",
   "id": "eca11e6c",
   "metadata": {},
   "source": [
    "Ptolomeo y el resto de las tropas disfrutaban de un breve descanso en la ciudad de Susa, en el sudeste del actual Irán, cuando el imprevisible Alejandro decidió celebrar una fiesta grandiosa que, por sorpresa, incluía en el programa unas bodas colectivas para ély sus oficiales.  "
   ]
  },
  {
   "cell_type": "markdown",
   "id": "93121b63",
   "metadata": {},
   "source": [
    "En unos festejos espectaculares  "
   ]
  },
  {
   "cell_type": "markdown",
   "id": "9385e51c",
   "metadata": {},
   "source": []
  },
  {
   "cell_type": "code",
   "execution_count": null,
   "id": "8b4dc9ca",
   "metadata": {},
   "outputs": [],
   "source": []
  },
  {
   "cell_type": "code",
   "execution_count": null,
   "id": "a24e189e",
   "metadata": {},
   "outputs": [],
   "source": []
  },
  {
   "cell_type": "code",
   "execution_count": null,
   "id": "e0a0e879",
   "metadata": {},
   "outputs": [],
   "source": []
  },
  {
   "cell_type": "code",
   "execution_count": null,
   "id": "da6c8695",
   "metadata": {},
   "outputs": [],
   "source": []
  },
  {
   "cell_type": "code",
   "execution_count": null,
   "id": "c7a18154",
   "metadata": {},
   "outputs": [],
   "source": []
  },
  {
   "cell_type": "code",
   "execution_count": null,
   "id": "66612fdc",
   "metadata": {},
   "outputs": [],
   "source": []
  },
  {
   "cell_type": "code",
   "execution_count": null,
   "id": "f1381591",
   "metadata": {},
   "outputs": [],
   "source": []
  },
  {
   "cell_type": "code",
   "execution_count": null,
   "id": "6f4966d6",
   "metadata": {},
   "outputs": [],
   "source": []
  },
  {
   "cell_type": "code",
   "execution_count": null,
   "id": "5054cede",
   "metadata": {},
   "outputs": [],
   "source": []
  },
  {
   "cell_type": "code",
   "execution_count": null,
   "id": "025d4914",
   "metadata": {},
   "outputs": [],
   "source": []
  },
  {
   "cell_type": "code",
   "execution_count": null,
   "id": "54f272c2",
   "metadata": {},
   "outputs": [],
   "source": []
  },
  {
   "cell_type": "code",
   "execution_count": null,
   "id": "f1c3b835",
   "metadata": {},
   "outputs": [],
   "source": []
  },
  {
   "cell_type": "code",
   "execution_count": null,
   "id": "21fdb17f",
   "metadata": {},
   "outputs": [],
   "source": []
  },
  {
   "cell_type": "code",
   "execution_count": null,
   "id": "3148ef33",
   "metadata": {},
   "outputs": [],
   "source": []
  },
  {
   "cell_type": "code",
   "execution_count": null,
   "id": "96f57cb7",
   "metadata": {},
   "outputs": [],
   "source": []
  },
  {
   "cell_type": "code",
   "execution_count": null,
   "id": "bf9fc4db",
   "metadata": {},
   "outputs": [],
   "source": []
  },
  {
   "cell_type": "markdown",
   "id": "655b8566",
   "metadata": {},
   "source": [
    "## Referentes  \n",
    "\n",
    "* https://es.wikipedia.org/wiki/Macedonia_(Grecia)"
   ]
  },
  {
   "cell_type": "code",
   "execution_count": null,
   "id": "8cb78aa6",
   "metadata": {},
   "outputs": [],
   "source": []
  }
 ],
 "metadata": {
  "kernelspec": {
   "display_name": "Python 3",
   "language": "python",
   "name": "python3"
  },
  "language_info": {
   "codemirror_mode": {
    "name": "ipython",
    "version": 3
   },
   "file_extension": ".py",
   "mimetype": "text/x-python",
   "name": "python",
   "nbconvert_exporter": "python",
   "pygments_lexer": "ipython3",
   "version": "3.8.8"
  },
  "latex_envs": {
   "LaTeX_envs_menu_present": true,
   "autoclose": false,
   "autocomplete": false,
   "bibliofile": "biblio.bib",
   "cite_by": "apalike",
   "current_citInitial": 1,
   "eqLabelWithNumbers": true,
   "eqNumInitial": 1,
   "hotkeys": {
    "equation": "Ctrl-E",
    "itemize": "Ctrl-I"
   },
   "labels_anchors": false,
   "latex_user_defs": false,
   "report_style_numbering": false,
   "user_envs_cfg": false
  }
 },
 "nbformat": 4,
 "nbformat_minor": 5
}
