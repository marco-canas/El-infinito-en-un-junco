{
 "cells": [
  {
   "cell_type": "markdown",
   "id": "929445e2",
   "metadata": {},
   "source": []
  },
  {
   "cell_type": "markdown",
   "id": "024a7862",
   "metadata": {},
   "source": [
    "# 1 La ciudad de los placeres y los libros"
   ]
  },
  {
   "cell_type": "markdown",
   "id": "9c9e8845",
   "metadata": {},
   "source": [
    "La mujer del mercader, joven y aburrida, duerme sola. "
   ]
  },
  {
   "cell_type": "markdown",
   "id": "f5710663",
   "metadata": {},
   "source": [
    "Hace diez meses que él zarpó de la isla mediterránea de Cos rumbo a Egipto y desde entonces no ha llegado ni una desde el país del Nilo. "
   ]
  },
  {
   "cell_type": "markdown",
   "id": "c16c4ff6",
   "metadata": {},
   "source": [
    "Ella tiene diecisiete años, todavía no ha dado a luz y no soporta la monotonía de la vida apartada en el gineceo, esperando acontecimientos, sin salir de casa para evitar murmuraciones. "
   ]
  },
  {
   "cell_type": "markdown",
   "id": "fafce094",
   "metadata": {},
   "source": [
    "No hay mucho que hacer. "
   ]
  },
  {
   "cell_type": "markdown",
   "id": "1af8ae0e",
   "metadata": {},
   "source": [
    "Tiranizar a las esclavas parecía divertido al proncipio, pero no es suficiente para llenar sus días. "
   ]
  },
  {
   "cell_type": "code",
   "execution_count": null,
   "id": "37b2a090",
   "metadata": {},
   "outputs": [],
   "source": []
  },
  {
   "cell_type": "code",
   "execution_count": null,
   "id": "e28fbb0e",
   "metadata": {},
   "outputs": [],
   "source": []
  },
  {
   "cell_type": "code",
   "execution_count": null,
   "id": "2ab72cb3",
   "metadata": {},
   "outputs": [],
   "source": []
  },
  {
   "cell_type": "code",
   "execution_count": null,
   "id": "11b9ced7",
   "metadata": {},
   "outputs": [],
   "source": []
  },
  {
   "cell_type": "code",
   "execution_count": null,
   "id": "7f7d74bf",
   "metadata": {},
   "outputs": [],
   "source": []
  },
  {
   "cell_type": "code",
   "execution_count": null,
   "id": "25d9c734",
   "metadata": {},
   "outputs": [],
   "source": []
  },
  {
   "cell_type": "code",
   "execution_count": null,
   "id": "6b83cb4a",
   "metadata": {},
   "outputs": [],
   "source": []
  },
  {
   "cell_type": "code",
   "execution_count": null,
   "id": "41cd3dda",
   "metadata": {},
   "outputs": [],
   "source": []
  },
  {
   "cell_type": "code",
   "execution_count": null,
   "id": "5cdda88f",
   "metadata": {},
   "outputs": [],
   "source": []
  }
 ],
 "metadata": {
  "kernelspec": {
   "display_name": "Python 3",
   "language": "python",
   "name": "python3"
  },
  "language_info": {
   "codemirror_mode": {
    "name": "ipython",
    "version": 3
   },
   "file_extension": ".py",
   "mimetype": "text/x-python",
   "name": "python",
   "nbconvert_exporter": "python",
   "pygments_lexer": "ipython3",
   "version": "3.8.8"
  },
  "latex_envs": {
   "LaTeX_envs_menu_present": true,
   "autoclose": false,
   "autocomplete": false,
   "bibliofile": "biblio.bib",
   "cite_by": "apalike",
   "current_citInitial": 1,
   "eqLabelWithNumbers": true,
   "eqNumInitial": 1,
   "hotkeys": {
    "equation": "Ctrl-E",
    "itemize": "Ctrl-I"
   },
   "labels_anchors": false,
   "latex_user_defs": false,
   "report_style_numbering": false,
   "user_envs_cfg": false
  }
 },
 "nbformat": 4,
 "nbformat_minor": 5
}
