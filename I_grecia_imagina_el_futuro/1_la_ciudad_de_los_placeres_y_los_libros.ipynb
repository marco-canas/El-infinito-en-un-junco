{
 "cells": [
  {
   "cell_type": "markdown",
   "id": "6b07bfb9",
   "metadata": {},
   "source": [
    "<table align=\"left\">\n",
    "  <td>\n",
    "    <a href=\"https://colab.research.google.com/github/marco-canas/edo/blob/main/banco_ejemplos/4_laplace/3_sol_sist_laplace/2_sistema_laplace.ipynb\" target=\"_parent\"><img src=\"https://colab.research.google.com/assets/colab-badge.svg\" alt=\"Open In Colab\"/></a>\n",
    "  </td>\n",
    "  <td>\n",
    "    <a target=\"_blank\" href=\"https://kaggle.com/kernels/welcome?src=https://github.com/marco-canas/edo/blob/main/banco_ejemplos/4_laplace/3_sol_sist_laplace/2_sistema_laplace.ipynb\"><img src=\"https://kaggle.com/static/images/open-in-kaggle.svg\" /></a>\n",
    "  </td>\n",
    "</table>"
   ]
  },
  {
   "cell_type": "markdown",
   "id": "2c02a41a",
   "metadata": {},
   "source": [
    "# 1 La ciudad de los placeres y los libros"
   ]
  },
  {
   "cell_type": "markdown",
   "id": "2e67ca42",
   "metadata": {},
   "source": [
    "1"
   ]
  },
  {
   "cell_type": "markdown",
   "id": "5ebf475c",
   "metadata": {},
   "source": [
    "La mujer del mercader, joven y aburrida, duerme sola. "
   ]
  },
  {
   "cell_type": "markdown",
   "id": "5ccfdd8e",
   "metadata": {},
   "source": [
    "Hace diez meses que él zarpó de la isla mediterránea de Cos rumbo a Egipto y desde entonces no ha llegado ni una desde el país del Nilo. "
   ]
  },
  {
   "cell_type": "markdown",
   "id": "164e29fd",
   "metadata": {},
   "source": [
    "Ella tiene diecisiete años, todavía no ha dado a luz y no soporta la monotonía de la vida apartada en el gineceo, esperando acontecimientos, sin salir de casa para evitar murmuraciones. "
   ]
  },
  {
   "cell_type": "markdown",
   "id": "158e819c",
   "metadata": {},
   "source": [
    "No hay mucho que hacer. "
   ]
  },
  {
   "cell_type": "markdown",
   "id": "b00d930b",
   "metadata": {},
   "source": [
    "Tiranizar a las esclavas parecía divertido al proncipio, pero no es suficiente para llenar sus días. "
   ]
  },
  {
   "cell_type": "markdown",
   "id": "56f27cf4",
   "metadata": {},
   "source": [
    "Por eso le alegra recibir visitas de otras mujeres. "
   ]
  },
  {
   "cell_type": "markdown",
   "id": "866cb6d7",
   "metadata": {},
   "source": [
    "No importa quién llame a la puerta, necesita desesperadamente distraerse para aligerar el peso de plomo de las horas.  "
   ]
  },
  {
   "cell_type": "markdown",
   "id": "50dc1d63",
   "metadata": {},
   "source": [
    "Una esclava anuncia la llegada de la anciana Gílide. "
   ]
  },
  {
   "cell_type": "markdown",
   "id": "04ecf05a",
   "metadata": {},
   "source": [
    "La mujer del mercader se promete un rato de diversión: su vieja nodriza Gílide es deslenguada y dice obscenidades con mucha gracia. "
   ]
  },
  {
   "cell_type": "markdown",
   "id": "22f23186",
   "metadata": {},
   "source": [
    "--¡Mamita Gílide! Hce meses que no viene a mi casa. "
   ]
  },
  {
   "cell_type": "markdown",
   "id": "2a800e86",
   "metadata": {},
   "source": [
    "--Sabes que vivo lejos, hija, y tengo ya menos fuerzas que una mosca.  "
   ]
  },
  {
   "cell_type": "markdown",
   "id": "17715ceb",
   "metadata": {},
   "source": [
    "--Bueno bueno -- dice la mujer del mercader--,  y a ti aún te quedan fuerzas para darle un buen achuchón a más de uno. "
   ]
  },
  {
   "cell_type": "markdown",
   "id": "b8e8abb3",
   "metadata": {},
   "source": [
    "--¡Búrlate!--contesta Gílide--, pero eso queda para vosotras las jovencitas. "
   ]
  },
  {
   "cell_type": "markdown",
   "id": "3dcf1588",
   "metadata": {},
   "source": [
    "Con una sonrisa maliciosa, con astutos preámbulos, la anciana desembucha por fin lo que ha venido a contar. "
   ]
  },
  {
   "cell_type": "markdown",
   "id": "8a834a8d",
   "metadata": {},
   "source": [
    "Un joven fuerte y guapo que ha ganado dos veces el premio de lucha en los Juegos Olímpicos se ha fijado en la mujer del mercader, se muere de deseo y quiere ser su amante. "
   ]
  },
  {
   "cell_type": "markdown",
   "id": "3579d229",
   "metadata": {},
   "source": [
    "--No te enfades y escucha su propuesta. Lleva el aguijón de la pasión clavado en la carne. "
   ]
  },
  {
   "cell_type": "markdown",
   "id": "86ec140a",
   "metadata": {},
   "source": [
    "Concédete una alegría con él. "
   ]
  },
  {
   "cell_type": "markdown",
   "id": "79f92690",
   "metadata": {},
   "source": [
    "¿Te vas a quedar a quedar aquí, calentando la silla? --pregunta Gílide, tentadora--. "
   ]
  },
  {
   "cell_type": "markdown",
   "id": "732f3b7d",
   "metadata": {},
   "source": [
    "Cuando quieras darte cuenta, te habrás hecho vieja y las cenizas se habrán zampado tú lozanía. "
   ]
  },
  {
   "cell_type": "markdown",
   "id": "924575ca",
   "metadata": {},
   "source": [
    "--Calla, calla..."
   ]
  },
  {
   "cell_type": "markdown",
   "id": "6f2b5791",
   "metadata": {},
   "source": [
    "--Y a qué se dedida tu marido en Egipto? No te escribe, te tiene olvidada, y seguro que ya ha mojado los labios en otra copa."
   ]
  },
  {
   "cell_type": "markdown",
   "id": "4ab8a159",
   "metadata": {},
   "source": [
    "Para vencer la última resistencia de la chica, Gílide describe con labia todo lo que Egipto, y especialmente Alejandría, ofrecen al marido lejano e ingrato,: riquezas, el encanto de un clima siempre cálido y sensual, gimnacios, espectáculos, manadas de filósofos, libros, oro, vino, adolescentes y tantas mujeres atractivas como estrellas brillan en el cielo. "
   ]
  },
  {
   "cell_type": "markdown",
   "id": "faece8a0",
   "metadata": {},
   "source": [
    "He traducido libremente el principio de una breve pieza teatral griega escrita en el siglo III a.c. con un intenso aroma de vida cotidiana. "
   ]
  },
  {
   "cell_type": "markdown",
   "id": "13855826",
   "metadata": {},
   "source": [
    "Pequeñas obras como esta seguramente no se representaban, salvo algún tipo de lectura dramatizada. "
   ]
  },
  {
   "cell_type": "markdown",
   "id": "5a8977c1",
   "metadata": {},
   "source": [
    "Humorísticas, a veces picarescas, abren ventanas a un mundo proscrito de esclavos azotados y amos crueles, proxenetas, madres al borde de la desesperación a causa de sus hijos adolescentes, o mujeres sexuelmente insatisfechas. "
   ]
  },
  {
   "cell_type": "markdown",
   "id": "0edfae6a",
   "metadata": {},
   "source": [
    "Gílide es una de las primeras celestinas de la historia de la literatura, una alcahueta profesional que conoce los secretos del oficio y apunta, sin dudar, al resquicio más frágil de sus victimas: el miedo universal a envejecer. "
   ]
  },
  {
   "cell_type": "markdown",
   "id": "adb21351",
   "metadata": {},
   "source": [
    "Sin embargo, a pesar de su talento cruel, Gílide fracasa, esta vez. "
   ]
  },
  {
   "cell_type": "markdown",
   "id": "a13997e3",
   "metadata": {},
   "source": [
    "El diálogo acaba con los insultos cariñosos de la chica, que es fiel a su marido ausente, o tal vez no quere correr los terribles riesgos del adulterio. "
   ]
  },
  {
   "cell_type": "markdown",
   "id": "1e427aab",
   "metadata": {},
   "source": [
    "¿Se te ha reblandecido la mollera? le pregunta la mujer del mercader a Gílide, pero, por otra parte, la consuela ofreciéndole un trago de vino. "
   ]
  },
  {
   "cell_type": "markdown",
   "id": "9bc0a857",
   "metadata": {},
   "source": [
    "Junto al humos y el tono fresco, el texto es interesante porque nos descubre la visión que la gente común y corriente tenía de la Alejandría de su época: la ciudad de los placeres y de los libros; la capital del sexo y la palabra. "
   ]
  },
  {
   "cell_type": "markdown",
   "id": "92103a34",
   "metadata": {},
   "source": [
    "2"
   ]
  },
  {
   "cell_type": "markdown",
   "id": "33739f9b",
   "metadata": {},
   "source": [
    "La leyenda de Alejandría no dejó de crecer. "
   ]
  },
  {
   "cell_type": "markdown",
   "id": "31f93c42",
   "metadata": {},
   "source": [
    "Dos siglos después de que se escribiera el diálogo de Gílide y la chica tentada, Alejandría fue el escenario de uno de los grandes mitos eróticos de todos los tiempos: la historia de amor de Cleopatra y Marco Antonio. "
   ]
  },
  {
   "cell_type": "markdown",
   "id": "663b274e",
   "metadata": {},
   "source": [
    "Roma, que para entonces se había convertido en el centro del mayor imperio mediterráneo, era todavía un laberinto de calles tormentuosas, oscuras y embarradas cuando Marco Antonio desembarcó por primera vez en Alejandría. "
   ]
  },
  {
   "cell_type": "markdown",
   "id": "a5ed3abc",
   "metadata": {},
   "source": [
    "De pronto, se vio transportado a una ciudad embriagadora cuyos palacios, templos, amplias avenidas y monumentos irradiaban grandeza. "
   ]
  },
  {
   "cell_type": "code",
   "execution_count": null,
   "id": "a3457a64",
   "metadata": {},
   "outputs": [],
   "source": []
  },
  {
   "cell_type": "code",
   "execution_count": null,
   "id": "4d3abccd",
   "metadata": {},
   "outputs": [],
   "source": []
  },
  {
   "cell_type": "code",
   "execution_count": null,
   "id": "6770de11",
   "metadata": {},
   "outputs": [],
   "source": []
  }
 ],
 "metadata": {
  "kernelspec": {
   "display_name": "Python 3",
   "language": "python",
   "name": "python3"
  },
  "language_info": {
   "codemirror_mode": {
    "name": "ipython",
    "version": 3
   },
   "file_extension": ".py",
   "mimetype": "text/x-python",
   "name": "python",
   "nbconvert_exporter": "python",
   "pygments_lexer": "ipython3",
   "version": "3.8.8"
  },
  "latex_envs": {
   "LaTeX_envs_menu_present": true,
   "autoclose": false,
   "autocomplete": false,
   "bibliofile": "biblio.bib",
   "cite_by": "apalike",
   "current_citInitial": 1,
   "eqLabelWithNumbers": true,
   "eqNumInitial": 1,
   "hotkeys": {
    "equation": "Ctrl-E",
    "itemize": "Ctrl-I"
   },
   "labels_anchors": false,
   "latex_user_defs": false,
   "report_style_numbering": false,
   "user_envs_cfg": false
  }
 },
 "nbformat": 4,
 "nbformat_minor": 5
}
